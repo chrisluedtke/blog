{
 "cells": [
  {
   "cell_type": "markdown",
   "metadata": {},
   "source": [
    "# ChiPy Mentorship 2 of 3\n",
    "\n",
    "Since Post 1 my project work has varied between learning data science at a high level, expanding my Python foundation, and conducting exploratory data analysis. In this post I walk through the tools I’m using and my approach to an evolving goal line.\n",
    "\n",
    "#### Learning and Project Clarity\n",
    "Since my last post I have been working my way through the book, Data Science for Business (thanks to my mentor Aly for the purchase). The book provides a nice balance between high level discussion and gritty nuance. Most importantly, the text provides language for speaking to my interests and experiences in analytics, and defining my the stages and scope of my project.\n",
    "\n",
    "See my previous post for information on my role as an analyst at an AmeriCorps non-profit and the data at my disposal.\n",
    "\n",
    "The analysis I’m conducting involves profiling and causal modeling. I want to know which data points correlate most strongly to student outcomes and AmeriCorps Member performance. I am hoping I can then build a profile of successful (or unsuccessful) AmeriCorps Members (ACMs) and use this model to recommend metrics and goals that better align to student outcomes and ACM performance. Additionaly, this analysis could help advocate to school partners for the school settings in which our AmeriCorps Members best serve students’ individualistic needs.\n",
    "\n",
    "#### Getting Data\n",
    "The first task was to get my data into Python. The majority of our data are stored on Salesforce or Excel workbooks through SharePoint. Going into this project, I had already developed Python systems for getting and writing Excel documents to SharePoint. This was accomplished through a mapped network drive to the SharePoint server, allowing me to simply navigate the file structure as a local drive.\n",
    "\n",
    "The Salesforce component was a bit more tricky, but offered an excellent opportunity to practice my Python fundamentals. The solution involed tuples and dictionaries, in addition to the list and pandas dataframe types I use most often.\n",
    "\n",
    "My solution relied heavily on the package, simple_salesforce. I added a convenient function to query Salesforce and shape the response in a dataframe.\n",
    "\n",
    "#### Cleaning Data\n",
    "There are a lot of places I could start this project. I decided to start where I saw greatest opportunity: our observation and coaching data. I want to know if AmeriCorps Members who exercise best practices in tutoring are more impactful with students. This is data I had been intending to clean and aggregate, but which I put off because the 26 Excel workbooks created to track this data were not designed with aggregation in mind. The records are indexed by first names and nicknames, headers are inconsistent (and multi-indexed), and the file structure does not reflect standardized organization.\n",
    "\n",
    "O&C data\n",
    "- fuzzywuzzy to flag names to be manually fixed\n",
    "\n",
    "#### Next Steps\n",
    "Next I will determine student assessment progress by comparing prior year or start of year assessments to the recent winter assessment. Typically we set assessment goals fall to spring, so in this analysis I will need to calculate mid-year goals."
   ]
  }
 ],
 "metadata": {
  "kernelspec": {
   "display_name": "Python 3",
   "language": "python",
   "name": "python3"
  },
  "language_info": {
   "codemirror_mode": {
    "name": "ipython",
    "version": 3
   },
   "file_extension": ".py",
   "mimetype": "text/x-python",
   "name": "python",
   "nbconvert_exporter": "python",
   "pygments_lexer": "ipython3",
   "version": "3.6.4"
  }
 },
 "nbformat": 4,
 "nbformat_minor": 2
}
