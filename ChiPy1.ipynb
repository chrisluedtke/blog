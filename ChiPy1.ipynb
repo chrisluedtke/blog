{
 "cells": [
  {
   "cell_type": "markdown",
   "metadata": {},
   "source": [
    "# ChiPy Mentorship 1 of 3\n",
    "\n",
    "Meaningful analysis begins with asking the right question for the data at hand. But this process encompasses an art form in which I am an amateur. I have had 19 days since my acceptance to the ChiPy Mentorship, I have sniff at what my ultimate project will be, and I am diving head-in. In this post I walk you through my learning process and anxiety, the resources and mindset that carry me, and the project I settled on.\n",
    "\n",
    "#### My Place in the Data-verse\n",
    "\n",
    "I sit as Impact Analyst at City Year in Chicago, one of 28 cities in which City Year provides student success coaching for populations most at risk of dropping out of school. These student success coaches are AmeriCorps members – full time volunteers who donate roughly a year of their time in support of a worthy cause. City Year is the largest AmeriCorps program, enlisting 3,000 AmeriCorps members (ACMs) per year.\n",
    "\n",
    "We collect a lot of data. Our school districts collect magnitudes more. Yet as a nation we have not solved the problem of high school drop-outs and equitable access to quality education. I won’t solve it either, but through analytics I can influence action toward a small facet of the problem.\n",
    "\n",
    "There are not many people in my organization, especially not in Chicago, who are familiar with programming, algorithms, and machine learning. This opens up fantastic opportunities for me to learn and have real impact. For example, I wrote a simulated annealing approach to our process of assigning ACMs to school teams based on various features of corps members and schools. This saved the average ACM 90 hours of commuting compared to the previous year.\n",
    "\n",
    "It makes sense that my project exist in this space of opportunity and impact, but that is a weak filter on the expanse of potential projects.\n",
    "\n",
    "#### Prioritize Learning, Results will Follow\n",
    "\n",
    "The last two weeks have been an overwhelming and exciting process of brainstorming with my rockstar mentor, Aly. In the process I reached out far and wide to my manager, siblings, the VP of my department, and the mentors throughout my career. Although this period opened my eyes to a world of possibilities, it simultaneously induced anxiety and debilitation.\n",
    "\n",
    "I am ambitious and impatient. Analytics excites me because it can have profound effects on problems people didn't know existed or didn't know how to solve. In turn, I was desperate to choose an analysis question that would neatly lead to impact. I worried I might go down a path only to realize it wasn't going anywhere, nobody was listening to the actions the analysis suggested, that in the meantime somebody else solved the more 'fun' questions, or that my approach would become obsolete because it did not fit the toolbox my organization draws from.\n",
    "\n",
    "This anxiety was resolved through mentor support and reflection on trends in my own development. Of course results are important, and one should place an educated bet on their approach. But results are not the ultimate goal in this journey. After all, I cannot predict the future. There are uncertainties that may undo any endeavor. More important is the learning process –being challenged and providing evidence of a strong effort.\n",
    "\n",
    "#### Immersion Learning and Mentorship\n",
    "\n",
    "With personal development squarely as the top priority, I structured my environment accordingly. I typically spend commuting and relaxation time listening to podcasts, scrolling Reddit, and reading. So I infused these spaces with information that reinforces the concepts I am learning. I swapped out my reddit account with subreddits like dataisbeautiful, datascience, learnpython, Python, and Programming. When browsing for a podcast, I look through Talk Python to Me and Python Bytes.\n",
    "\n",
    "I also went back to basics. Though I have regularly utilized Python through packages like Pandas, Selenium, and Numpy for about a year, my mentor urged me to work through the official Python Tutorial. In just the first 3 sections I had learned several helpful tidbits I had not seen elsewhere. My mentor also shared an article, Teach Yourself Programming in Ten Years. The piece explains how shallow learning can be quick and easy, but a solid foundation and mastery require persistent practice and patience. “A little learning is a dangerous thing,” said Alexander Pope.\n",
    "\n",
    "The common thread in the pieces supporting my mindset is my mentor, Aly. Mentors in ChiPy are uncompensated and contribute 5-10 hours per week supporting their mentees. Mentorship is an incredible resource to any learning effort, and I am grateful for the ChiPy community and Aly for providing that.\n",
    "\n",
    "#### Project Proposal\n",
    "\n",
    "What factors contribute to successful AmeriCorps members? What makes a good team? Can we build a system in which our managers can intervene early in team issues? Can we assign ACMs to particular training tracks based on observations of their tutoring sessions? Can we improve marketing and hiring practices?\n",
    "Data available\n",
    "* Notes from observations of ACM tutoring\n",
    "* Tutoring time, student assessments\n",
    "* Notes from performance reviews\n",
    "* Job application essays and notes\n",
    "* ACM surveys\n",
    "* Teacher and administrator surveys\n",
    "* Training schedule and ACM attendance"
   ]
  }
 ],
 "metadata": {
  "kernelspec": {
   "display_name": "Python 3",
   "language": "python",
   "name": "python3"
  },
  "language_info": {
   "codemirror_mode": {
    "name": "ipython",
    "version": 3
   },
   "file_extension": ".py",
   "mimetype": "text/x-python",
   "name": "python",
   "nbconvert_exporter": "python",
   "pygments_lexer": "ipython3",
   "version": "3.6.0"
  }
 },
 "nbformat": 4,
 "nbformat_minor": 2
}
